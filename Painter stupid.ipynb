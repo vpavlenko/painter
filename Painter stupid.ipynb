{
 "metadata": {
  "name": "",
  "signature": "sha256:3cfe45bfdf676e109a09d63dff4fe971970a1df810a72b9dccfd85ddb4c2635a"
 },
 "nbformat": 3,
 "nbformat_minor": 0,
 "worksheets": [
  {
   "cells": [
    {
     "cell_type": "code",
     "collapsed": false,
     "input": [
      "# import numpy as np\n",
      "# from math import cos, sin, pi\n",
      "from sympy import *\n",
      "from math import pi, e\n",
      "\n",
      "M = Matrix\n",
      "V = lambda a: M(3, 1, a)"
     ],
     "language": "python",
     "metadata": {},
     "outputs": [],
     "prompt_number": 191
    },
    {
     "cell_type": "code",
     "collapsed": false,
     "input": [
      "def rot_z(\u03b8):\n",
      "    return M(\n",
      "        [[cos(\u03b8), -sin(\u03b8), 0, 0],\n",
      "         [sin(\u03b8), cos(\u03b8), 0, 0],\n",
      "         [0, 0, 1, 0],\n",
      "         [0, 0, 0, 1]])"
     ],
     "language": "python",
     "metadata": {},
     "outputs": [],
     "prompt_number": 183
    },
    {
     "cell_type": "code",
     "collapsed": false,
     "input": [
      "def rot_x(\u03b8):\n",
      "    return M(\n",
      "        [[1, 0, 0, 0],\n",
      "         [0, cos(\u03b8), -sin(\u03b8), 0],\n",
      "         [0, sin(\u03b8), cos(\u03b8), 0],\n",
      "         [0, 0, 0, 1]])"
     ],
     "language": "python",
     "metadata": {},
     "outputs": [],
     "prompt_number": 184
    },
    {
     "cell_type": "code",
     "collapsed": false,
     "input": [
      "def rot_y(\u03b8):\n",
      "    return M(\n",
      "        [[cos(\u03b8), 0, sin(\u03b8), 0],\n",
      "         [0, 1, 0, 0],\n",
      "         [-sin(\u03b8), 0, cos(\u03b8), 0],\n",
      "         [0, 0, 0, 1]])"
     ],
     "language": "python",
     "metadata": {},
     "outputs": [],
     "prompt_number": 185
    },
    {
     "cell_type": "code",
     "collapsed": false,
     "input": [
      "def trans(x, y, z):\n",
      "    return M(\n",
      "        [[1, 0, 0, x],\n",
      "         [0, 1, 0, y],\n",
      "         [0, 0, 1, z],\n",
      "         [0, 0, 0, 1]])"
     ],
     "language": "python",
     "metadata": {},
     "outputs": [],
     "prompt_number": 186
    },
    {
     "cell_type": "code",
     "collapsed": false,
     "input": [
      "TRANS01 = [0, 0, 84]\n",
      "TRANS23 = [81, 0, 0]\n",
      "PEN = [74, 0, 0, 1]\n",
      "\n",
      "t1 = Symbol('t1') \n",
      "t2 = Symbol('t2') \n",
      "t3 = Symbol('t3') \n",
      "G_M = simplify(trans(*TRANS01) * rot_z(t1) * trans(*TRANS12) * rot_y(pi/2 - t2) * trans(*TRANS23) * rot_y(t3) * Matrix(4, 1, PEN))\n",
      "def M30(_1, _2, _3):\n",
      "    return G_M.subs(t1, _1).subs(t2, _2).subs(t3, _3)\n",
      "\n",
      "def eval_vector(m):\n",
      "    return V(m.evalf()[:3])\n",
      "\n",
      "def eval_M30(\u03b81, \u03b82, \u03b83):\n",
      "    return eval_vector(M30(\u03b81, \u03b82, \u03b83))\n",
      "\n",
      "\u03b81 = Symbol('\u03b81') \n",
      "\u03b82 = Symbol('\u03b82') \n",
      "\u03b83 = Symbol('\u03b83') \n",
      "thetas = [\u03b81, \u03b82, \u03b83]\n",
      "X = Matrix(M30(*thetas)[:3])\n",
      "jinv = X.jacobian(thetas).inv()\n",
      "\n",
      "def jinv_at(t1, t2, t3):\n",
      "    return jinv.subs(\u03b81, t1).subs(\u03b82, t2).subs(\u03b83, t3).evalf()\n",
      "\n",
      "print(eval_M30(0, pi/2, 0))\n",
      "print(eval_M30(pi/4, pi/4, pi/4))\n",
      "print(eval_M30(pi/2, pi/4, pi/4))\n",
      "print(jinv_at(pi/4, pi/4, pi/4))\n",
      "print(jinv_at(pi/2, pi/4, pi/4))"
     ],
     "language": "python",
     "metadata": {},
     "outputs": [
      {
       "output_type": "stream",
       "stream": "stdout",
       "text": [
        "Matrix([[155.000000000000], [0], [84.0000000000000]])\n",
        "Matrix([[40.5000000000000], [40.5000000000000], [-47.2756492761104]])\n",
        "Matrix([[3.50712202775375e-15], [57.2756492761103], [-47.2756492761104]])\n",
        "Matrix([[-0.0123456790123457, 0.0123456790123457, 0], [0, -8.67361737988404e-19, 0.0174594266959641], [-0.00955549704306145, -0.00955549704306145, 0.0309729402094777]])"
       ]
      },
      {
       "output_type": "stream",
       "stream": "stdout",
       "text": [
        "\n",
        "Matrix([[-0.0174594266959641, 1.06908155090802e-18, 0], [0, 0, 0.0174594266959641], [-8.27464053477941e-19, -0.0135135135135135, 0.0309729402094777]])"
       ]
      },
      {
       "output_type": "stream",
       "stream": "stdout",
       "text": [
        "\n"
       ]
      }
     ],
     "prompt_number": 243
    },
    {
     "cell_type": "markdown",
     "metadata": {},
     "source": [
      "\u041e\u043a\u0435\u0439, \u0442\u0435\u043f\u0435\u0440\u044c \u043d\u0430\u0443\u0447\u0438\u043c\u0441\u044f \u043f\u043e\u043f\u0430\u0434\u0430\u0442\u044c \u0432 \u0442\u043e\u0447\u043a\u0443 [50, 50, 0]."
     ]
    },
    {
     "cell_type": "code",
     "collapsed": false,
     "input": [
      "HOME = [45, 45, 45]\n",
      "\n",
      "class ConvergenceError(Exception):\n",
      "    pass\n",
      "\n",
      "def rad_to_angle(angles):\n",
      "    return [angle / pi * 180 for angle in angles]\n",
      "\n",
      "def angle_to_rad(rads):\n",
      "    return [rad / 180 * pi for rad in rads]\n",
      "\n",
      "def get_thetas_to_move(from_\u03b8, to_xyz):\n",
      "    to_xyz = V(to_xyz)\n",
      "    curr_\u03b8 = V(angle_to_rad(from_\u03b8))\n",
      "    curr_xyz = eval_M30(*curr_\u03b8)\n",
      "    print('GET_THETAS: {0}, {1}'.format(curr_xyz, to_xyz))\n",
      "    iter = 0\n",
      "    while (curr_xyz - to_xyz).norm().evalf() > 1e-1:\n",
      "        iter += 1\n",
      "        if iter > 100:\n",
      "            raise ConvergenceError('norm {0} after {1} iters, no convergence'.format((curr_xyz - to_xyz).norm().evalf(), iter))\n",
      "        dx = V(eval_vector(to_xyz - curr_xyz)) * e ** (-0.01 * iter)\n",
      "        d\u03b8 = V(eval_vector(jinv_at(*curr_\u03b8) * dx))\n",
      "        curr_\u03b8 = eval_vector(curr_\u03b8 + d\u03b8)\n",
      "        curr_xyz = eval_M30(*curr_\u03b8)\n",
      "    return rad_to_angle(curr_\u03b8)\n",
      "    \n",
      "print(get_thetas_to_move(V(HOME), V([50, 50, 0])))\n",
      "print(get_thetas_to_move(V(HOME), V([70, 0, 0])))"
     ],
     "language": "python",
     "metadata": {},
     "outputs": [
      {
       "output_type": "stream",
       "stream": "stdout",
       "text": [
        "GET_THETAS: Matrix([[40.5000000000000], [40.5000000000000], [-47.2756492761104]]), Matrix([[50], [50], [0]])\n",
        "[45.0000000000000, 82.4665910546106, 89.9154855100279]"
       ]
      },
      {
       "output_type": "stream",
       "stream": "stdout",
       "text": [
        "\n",
        "GET_THETAS: Matrix([[40.5000000000000], [40.5000000000000], [-47.2756492761104]]), Matrix([[70], [0], [0]])\n",
        "[0.0106178450177501, 82.4276990396158, 90.4734992579139]"
       ]
      },
      {
       "output_type": "stream",
       "stream": "stdout",
       "text": [
        "\n"
       ]
      }
     ],
     "prompt_number": 246
    },
    {
     "cell_type": "markdown",
     "metadata": {},
     "source": [
      "\u041e\u043a\u0435\u0439, \u043d\u0430\u0443\u0447\u0438\u043b\u0438\u0441\u044c \u043f\u043e\u043f\u0430\u0434\u0430\u0442\u044c \u0432 \u0442\u043e\u0447\u043a\u0443. \n",
      "\n",
      "\u041f\u0443\u0441\u0442\u044c \u0440\u043e\u0431\u043e\u0442 \u0438\u0434\u0451\u0442 \u043f\u043e \u043b\u0438\u043d\u0438\u0438."
     ]
    },
    {
     "cell_type": "code",
     "collapsed": false,
     "input": [
      "COORDS = [[5 * i, 70 - 5 * i] for i in range(15)]\n",
      "print(COORDS)\n",
      "\n",
      "COORDS = COORDS + COORDS[::-1]\n",
      "\n",
      "points = [HOME]\n",
      "for coords in COORDS:\n",
      "    points.append(get_thetas_to_move(points[-1], coords + [0]))\n",
      "\n",
      "for point in points:\n",
      "    print('move_to({0});'.format(', '.join(map(lambda x: str(round(x)), point))))"
     ],
     "language": "python",
     "metadata": {},
     "outputs": [
      {
       "output_type": "stream",
       "stream": "stdout",
       "text": [
        "[[0, 70], [5, 65], [10, 60], [15, 55], [20, 50], [25, 45], [30, 40], [35, 35], [40, 30], [45, 25], [50, 20], [55, 15], [60, 10], [65, 5], [70, 0]]\n",
        "GET_THETAS: Matrix([[40.5000000000000], [40.5000000000000], [-47.2756492761104]]), Matrix([[0], [70], [0]])"
       ]
      },
      {
       "output_type": "stream",
       "stream": "stdout",
       "text": [
        "\n",
        "GET_THETAS: Matrix([[0.0129603299092657], [69.9362436687950], [0.0544670754872811]]), Matrix([[5], [65], [0]])"
       ]
      },
      {
       "output_type": "stream",
       "stream": "stdout",
       "text": [
        "\n",
        "GET_THETAS: Matrix([[4.99273380863391], [64.9969624781489], [0.00324646192743216]]), Matrix([[10], [60], [0]])"
       ]
      },
      {
       "output_type": "stream",
       "stream": "stdout",
       "text": [
        "\n",
        "GET_THETAS: Matrix([[9.99219894864362], [59.9965470783724], [0.00289661355515136]]), Matrix([[15], [55], [0]])"
       ]
      },
      {
       "output_type": "stream",
       "stream": "stdout",
       "text": [
        "\n",
        "GET_THETAS: Matrix([[14.9919268452771], [54.9960454155220], [0.00248530323820262]]), Matrix([[20], [50], [0]])"
       ]
      },
      {
       "output_type": "stream",
       "stream": "stdout",
       "text": [
        "\n",
        "GET_THETAS: Matrix([[19.9918401343920], [49.9954824106647], [0.00212339238579773]]), Matrix([[25], [45], [0]])"
       ]
      },
      {
       "output_type": "stream",
       "stream": "stdout",
       "text": [
        "\n",
        "GET_THETAS: Matrix([[24.9919060964556], [44.9949546144840], [0.00184646848241243]]), Matrix([[30], [40], [0]])"
       ]
      },
      {
       "output_type": "stream",
       "stream": "stdout",
       "text": [
        "\n",
        "GET_THETAS: Matrix([[29.9920339728645], [39.9945867485524], [0.00167169416347690]]), Matrix([[35], [35], [0]])"
       ]
      },
      {
       "output_type": "stream",
       "stream": "stdout",
       "text": [
        "\n",
        "GET_THETAS: Matrix([[34.9921404509649], [34.9944439123849], [0.00158553539706929]]), Matrix([[40], [30], [0]])"
       ]
      },
      {
       "output_type": "stream",
       "stream": "stdout",
       "text": [
        "\n",
        "GET_THETAS: Matrix([[39.9922314895357], [29.9944409200821], [0.00156148802280143]]), Matrix([[45], [25], [0]])"
       ]
      },
      {
       "output_type": "stream",
       "stream": "stdout",
       "text": [
        "\n",
        "GET_THETAS: Matrix([[44.9923947692384], [24.9944023448328], [0.00159613944303771]]), Matrix([[50], [20], [0]])"
       ]
      },
      {
       "output_type": "stream",
       "stream": "stdout",
       "text": [
        "\n",
        "GET_THETAS: Matrix([[49.9927044726823], [19.9942490122408], [0.00171634669784737]]), Matrix([[55], [15], [0]])"
       ]
      },
      {
       "output_type": "stream",
       "stream": "stdout",
       "text": [
        "\n",
        "GET_THETAS: Matrix([[54.9931549715198], [14.9940693531312], [0.00194614157580020]]), Matrix([[60], [10], [0]])"
       ]
      },
      {
       "output_type": "stream",
       "stream": "stdout",
       "text": [
        "\n",
        "GET_THETAS: Matrix([[59.9936773142359], [9.99400808058701], [0.00227817962750976]]), Matrix([[65], [5], [0]])"
       ]
      },
      {
       "output_type": "stream",
       "stream": "stdout",
       "text": [
        "\n",
        "GET_THETAS: Matrix([[64.9941897855545], [4.99414626549952], [0.00267833765975922]]), Matrix([[70], [0], [0]])"
       ]
      },
      {
       "output_type": "stream",
       "stream": "stdout",
       "text": [
        "\n",
        "GET_THETAS: Matrix([[69.9946299121640], [-0.00551982861801423], [0.00310748743488887]]), Matrix([[70], [0], [0]])"
       ]
      },
      {
       "output_type": "stream",
       "stream": "stdout",
       "text": [
        "\n",
        "GET_THETAS: Matrix([[69.9946299121640], [-0.00551982861801423], [0.00310748743488887]]), Matrix([[65], [5], [0]])\n",
        "GET_THETAS: Matrix([[64.9969389729636], [4.99263590702904], [0.00332017135076512]]), Matrix([[60], [10], [0]])"
       ]
      },
      {
       "output_type": "stream",
       "stream": "stdout",
       "text": [
        "\n",
        "GET_THETAS: Matrix([[59.9965468774498], [9.99219889583664], [0.00289661272404373]]), Matrix([[55], [15], [0]])"
       ]
      },
      {
       "output_type": "stream",
       "stream": "stdout",
       "text": [
        "\n",
        "GET_THETAS: Matrix([[54.9960454154497], [14.9919268455813], [0.00248530303892380]]), Matrix([[50], [20], [0]])"
       ]
      },
      {
       "output_type": "stream",
       "stream": "stdout",
       "text": [
        "\n",
        "GET_THETAS: Matrix([[49.9954824106654], [19.9918401343923], [0.00212339238562720]]), Matrix([[45], [25], [0]])"
       ]
      },
      {
       "output_type": "stream",
       "stream": "stdout",
       "text": [
        "\n",
        "GET_THETAS: Matrix([[44.9949546144841], [24.9919060964556], [0.00184646848239822]]), Matrix([[40], [30], [0]])"
       ]
      },
      {
       "output_type": "stream",
       "stream": "stdout",
       "text": [
        "\n",
        "GET_THETAS: Matrix([[39.9945867485524], [29.9920339728645], [0.00167169416347690]]), Matrix([[35], [35], [0]])"
       ]
      },
      {
       "output_type": "stream",
       "stream": "stdout",
       "text": [
        "\n",
        "GET_THETAS: Matrix([[34.9944439123849], [34.9921404509649], [0.00158553539706929]]), Matrix([[30], [40], [0]])"
       ]
      },
      {
       "output_type": "stream",
       "stream": "stdout",
       "text": [
        "\n",
        "GET_THETAS: Matrix([[29.9944409200821], [39.9922314895357], [0.00156148802280143]]), Matrix([[25], [45], [0]])"
       ]
      },
      {
       "output_type": "stream",
       "stream": "stdout",
       "text": [
        "\n",
        "GET_THETAS: Matrix([[24.9944023448328], [44.9923947692384], [0.00159613944303771]]), Matrix([[20], [50], [0]])"
       ]
      },
      {
       "output_type": "stream",
       "stream": "stdout",
       "text": [
        "\n",
        "GET_THETAS: Matrix([[19.9942490122408], [49.9927044726822], [0.00171634669786158]]), Matrix([[15], [55], [0]])"
       ]
      },
      {
       "output_type": "stream",
       "stream": "stdout",
       "text": [
        "\n",
        "GET_THETAS: Matrix([[14.9940693531312], [54.9931549715198], [0.00194614157580020]]), Matrix([[10], [60], [0]])"
       ]
      },
      {
       "output_type": "stream",
       "stream": "stdout",
       "text": [
        "\n",
        "GET_THETAS: Matrix([[9.99400808058702], [59.9936773142359], [0.00227817962750976]]), Matrix([[5], [65], [0]])"
       ]
      },
      {
       "output_type": "stream",
       "stream": "stdout",
       "text": [
        "\n",
        "GET_THETAS: Matrix([[4.99414626549952], [64.9941897855545], [0.00267833765978764]]), Matrix([[0], [70], [0]])"
       ]
      },
      {
       "output_type": "stream",
       "stream": "stdout",
       "text": [
        "\n",
        "move_to(45, 45, 45);"
       ]
      },
      {
       "output_type": "stream",
       "stream": "stdout",
       "text": [
        "\n",
        "move_to(90, 82, 90);\n",
        "move_to(86, 82, 94);\n",
        "move_to(81, 81, 96);\n",
        "move_to(75, 80, 98);\n",
        "move_to(68, 80, 100);\n",
        "move_to(61, 79, 101);\n",
        "move_to(53, 79, 102);\n",
        "move_to(45, 78, 102);\n",
        "move_to(37, 79, 102);\n",
        "move_to(29, 79, 101);\n",
        "move_to(22, 80, 100);\n",
        "move_to(15, 80, 98);\n",
        "move_to(9, 81, 96);\n",
        "move_to(4, 82, 94);\n",
        "move_to(0, 82, 90);\n",
        "move_to(0, 82, 90);\n",
        "move_to(4, 82, 94);\n",
        "move_to(9, 81, 96);\n",
        "move_to(15, 80, 98);\n",
        "move_to(22, 80, 100);\n",
        "move_to(29, 79, 101);\n",
        "move_to(37, 79, 102);\n",
        "move_to(45, 78, 102);\n",
        "move_to(53, 79, 102);\n",
        "move_to(61, 79, 101);\n",
        "move_to(68, 80, 100);\n",
        "move_to(75, 80, 98);\n",
        "move_to(81, 81, 96);\n",
        "move_to(86, 82, 94);\n",
        "move_to(90, 82, 90);\n"
       ]
      }
     ],
     "prompt_number": 266
    },
    {
     "cell_type": "markdown",
     "metadata": {},
     "source": [
      "\u041e\u043a\u0435\u0439, \u0442\u0435\u043f\u0435\u0440\u044c \u043d\u0430\u0443\u0447\u0438\u043c\u0441\u044f \u043f\u0435\u0440\u0435\u0434\u0430\u0432\u0430\u0442\u044c \u043a\u043e\u043c\u0430\u043d\u0434\u044b \u043d\u0430\u043f\u0440\u044f\u043c\u0443\u044e \u043d\u0430 \u0430\u0440\u0434\u0443\u0438\u043d\u043e."
     ]
    },
    {
     "cell_type": "code",
     "collapsed": false,
     "input": [
      "ser.write(b's45 45 0')\n",
      "ser.write(b's40 40 0')"
     ],
     "language": "python",
     "metadata": {},
     "outputs": [
      {
       "metadata": {},
       "output_type": "pyout",
       "prompt_number": 231,
       "text": [
        "8"
       ]
      }
     ],
     "prompt_number": 231
    },
    {
     "cell_type": "code",
     "collapsed": false,
     "input": [
      "import serial\n",
      "\n",
      "COLOR_HOME = [90, 0]\n",
      "\n",
      "class Drawer:\n",
      "    def __init__(self):\n",
      "        self.goto_theta(HOME)\n",
      "#         self.ser = serial.Serial('/dev/cu.usbmodem1411', 9600)\n",
      "        \n",
      "    def goto_theta(self, theta):\n",
      "        self.theta = theta\n",
      "        self.xyz = eval_M30(*self.theta)\n",
      "        print(('s' + ' '.join(map(lambda x: str(round(x)), theta))).encode('ascii'))\n",
      "    \n",
      "    def goto_xyz(self, xyz):\n",
      "        self.goto_theta(get_thetas_to_move(V(self.theta), V(xyz)))\n",
      "    \n",
      "    def move_z(self, new_z):\n",
      "        self.goto_xyz(self.xyz[:2] + [new_z])\n",
      "        \n",
      "    def move_to(self, coords):\n",
      "        self.goto_xyz(coords + [self.xyz[2]])\n",
      "        \n",
      "    def draw_line(self, coords):\n",
      "        start, end = coords\n",
      "        self.goto_xyz(start)\n",
      "        self.move_to(end)\n",
      "\n",
      "    def up(self):\n",
      "        self.move_z(20)\n",
      "        \n",
      "    def pick_color(self):\n",
      "        old_theta = self.theta\n",
      "        self.up()\n",
      "        self.move_to(COLOR_HOME)\n",
      "        self.move_z(0)\n",
      "        self.up()\n",
      "        self.goto_theta(old_theta)"
     ],
     "language": "python",
     "metadata": {},
     "outputs": [],
     "prompt_number": 264
    },
    {
     "cell_type": "code",
     "collapsed": false,
     "input": [
      "d = Drawer()\n",
      "d.pick_color()\n",
      "d.draw_line([[70, 90], [70, 50]])\n",
      "d.pick_color()\n",
      "d.draw_line([[90, 70], [50, 70]])\n",
      "d.up()"
     ],
     "language": "python",
     "metadata": {},
     "outputs": [
      {
       "output_type": "stream",
       "stream": "stdout",
       "text": [
        "b's45 45 45'\n",
        "GET_THETAS: Matrix([[40.5000000000000], [40.5000000000000], [-47.2756492761104]]), Matrix([[36.2068648758226], [58.6469814532314], [20]])\n",
        "b's58 96 105'"
       ]
      },
      {
       "output_type": "stream",
       "stream": "stdout",
       "text": [
        "\n",
        "GET_THETAS: Matrix([[36.2027052528317], [58.6409211551532], [20.0078309227917]]), Matrix([[90], [0], [199.048192966015]])\n",
        "b's-180 199 321'"
       ]
      },
      {
       "output_type": "stream",
       "stream": "stdout",
       "text": [
        "\n",
        "GET_THETAS: Matrix([[89.9759221859270], [-0.000219991136228659], [199.024380809542]]), Matrix([[87.0539019670875], [-116.572262901803], [0]])\n"
       ]
      },
      {
       "ename": "ConvergenceError",
       "evalue": "norm 39.2803018384413 after 101 iters, no convergence",
       "output_type": "pyerr",
       "traceback": [
        "\u001b[0;31m---------------------------------------------------------------------------\u001b[0m\n\u001b[0;31mConvergenceError\u001b[0m                          Traceback (most recent call last)",
        "\u001b[0;32m<ipython-input-265-5918ddc2dda1>\u001b[0m in \u001b[0;36m<module>\u001b[0;34m()\u001b[0m\n\u001b[1;32m      1\u001b[0m \u001b[0md\u001b[0m \u001b[0;34m=\u001b[0m \u001b[0mDrawer\u001b[0m\u001b[0;34m(\u001b[0m\u001b[0;34m)\u001b[0m\u001b[0;34m\u001b[0m\u001b[0m\n\u001b[0;32m----> 2\u001b[0;31m \u001b[0md\u001b[0m\u001b[0;34m.\u001b[0m\u001b[0mpick_color\u001b[0m\u001b[0;34m(\u001b[0m\u001b[0;34m)\u001b[0m\u001b[0;34m\u001b[0m\u001b[0m\n\u001b[0m\u001b[1;32m      3\u001b[0m \u001b[0md\u001b[0m\u001b[0;34m.\u001b[0m\u001b[0mdraw_line\u001b[0m\u001b[0;34m(\u001b[0m\u001b[0;34m[\u001b[0m\u001b[0;34m[\u001b[0m\u001b[0;36m70\u001b[0m\u001b[0;34m,\u001b[0m \u001b[0;36m90\u001b[0m\u001b[0;34m]\u001b[0m\u001b[0;34m,\u001b[0m \u001b[0;34m[\u001b[0m\u001b[0;36m70\u001b[0m\u001b[0;34m,\u001b[0m \u001b[0;36m50\u001b[0m\u001b[0;34m]\u001b[0m\u001b[0;34m]\u001b[0m\u001b[0;34m)\u001b[0m\u001b[0;34m\u001b[0m\u001b[0m\n\u001b[1;32m      4\u001b[0m \u001b[0md\u001b[0m\u001b[0;34m.\u001b[0m\u001b[0mpick_color\u001b[0m\u001b[0;34m(\u001b[0m\u001b[0;34m)\u001b[0m\u001b[0;34m\u001b[0m\u001b[0m\n\u001b[1;32m      5\u001b[0m \u001b[0md\u001b[0m\u001b[0;34m.\u001b[0m\u001b[0mdraw_line\u001b[0m\u001b[0;34m(\u001b[0m\u001b[0;34m[\u001b[0m\u001b[0;34m[\u001b[0m\u001b[0;36m90\u001b[0m\u001b[0;34m,\u001b[0m \u001b[0;36m70\u001b[0m\u001b[0;34m]\u001b[0m\u001b[0;34m,\u001b[0m \u001b[0;34m[\u001b[0m\u001b[0;36m50\u001b[0m\u001b[0;34m,\u001b[0m \u001b[0;36m70\u001b[0m\u001b[0;34m]\u001b[0m\u001b[0;34m]\u001b[0m\u001b[0;34m)\u001b[0m\u001b[0;34m\u001b[0m\u001b[0m\n",
        "\u001b[0;32m<ipython-input-264-917046fb61ee>\u001b[0m in \u001b[0;36mpick_color\u001b[0;34m(self)\u001b[0m\n\u001b[1;32m     34\u001b[0m         \u001b[0mself\u001b[0m\u001b[0;34m.\u001b[0m\u001b[0mup\u001b[0m\u001b[0;34m(\u001b[0m\u001b[0;34m)\u001b[0m\u001b[0;34m\u001b[0m\u001b[0m\n\u001b[1;32m     35\u001b[0m         \u001b[0mself\u001b[0m\u001b[0;34m.\u001b[0m\u001b[0mmove_to\u001b[0m\u001b[0;34m(\u001b[0m\u001b[0mCOLOR_HOME\u001b[0m\u001b[0;34m)\u001b[0m\u001b[0;34m\u001b[0m\u001b[0m\n\u001b[0;32m---> 36\u001b[0;31m         \u001b[0mself\u001b[0m\u001b[0;34m.\u001b[0m\u001b[0mmove_z\u001b[0m\u001b[0;34m(\u001b[0m\u001b[0;36m0\u001b[0m\u001b[0;34m)\u001b[0m\u001b[0;34m\u001b[0m\u001b[0m\n\u001b[0m\u001b[1;32m     37\u001b[0m         \u001b[0mself\u001b[0m\u001b[0;34m.\u001b[0m\u001b[0mup\u001b[0m\u001b[0;34m(\u001b[0m\u001b[0;34m)\u001b[0m\u001b[0;34m\u001b[0m\u001b[0m\n\u001b[1;32m     38\u001b[0m         \u001b[0mself\u001b[0m\u001b[0;34m.\u001b[0m\u001b[0mgoto_theta\u001b[0m\u001b[0;34m(\u001b[0m\u001b[0mold_theta\u001b[0m\u001b[0;34m)\u001b[0m\u001b[0;34m\u001b[0m\u001b[0m\n",
        "\u001b[0;32m<ipython-input-264-917046fb61ee>\u001b[0m in \u001b[0;36mmove_z\u001b[0;34m(self, new_z)\u001b[0m\n\u001b[1;32m     17\u001b[0m \u001b[0;34m\u001b[0m\u001b[0m\n\u001b[1;32m     18\u001b[0m     \u001b[0;32mdef\u001b[0m \u001b[0mmove_z\u001b[0m\u001b[0;34m(\u001b[0m\u001b[0mself\u001b[0m\u001b[0;34m,\u001b[0m \u001b[0mnew_z\u001b[0m\u001b[0;34m)\u001b[0m\u001b[0;34m:\u001b[0m\u001b[0;34m\u001b[0m\u001b[0m\n\u001b[0;32m---> 19\u001b[0;31m         \u001b[0mself\u001b[0m\u001b[0;34m.\u001b[0m\u001b[0mgoto_xyz\u001b[0m\u001b[0;34m(\u001b[0m\u001b[0mself\u001b[0m\u001b[0;34m.\u001b[0m\u001b[0mxyz\u001b[0m\u001b[0;34m[\u001b[0m\u001b[0;34m:\u001b[0m\u001b[0;36m2\u001b[0m\u001b[0;34m]\u001b[0m \u001b[0;34m+\u001b[0m \u001b[0;34m[\u001b[0m\u001b[0mnew_z\u001b[0m\u001b[0;34m]\u001b[0m\u001b[0;34m)\u001b[0m\u001b[0;34m\u001b[0m\u001b[0m\n\u001b[0m\u001b[1;32m     20\u001b[0m \u001b[0;34m\u001b[0m\u001b[0m\n\u001b[1;32m     21\u001b[0m     \u001b[0;32mdef\u001b[0m \u001b[0mmove_to\u001b[0m\u001b[0;34m(\u001b[0m\u001b[0mself\u001b[0m\u001b[0;34m,\u001b[0m \u001b[0mcoords\u001b[0m\u001b[0;34m)\u001b[0m\u001b[0;34m:\u001b[0m\u001b[0;34m\u001b[0m\u001b[0m\n",
        "\u001b[0;32m<ipython-input-264-917046fb61ee>\u001b[0m in \u001b[0;36mgoto_xyz\u001b[0;34m(self, xyz)\u001b[0m\n\u001b[1;32m     14\u001b[0m \u001b[0;34m\u001b[0m\u001b[0m\n\u001b[1;32m     15\u001b[0m     \u001b[0;32mdef\u001b[0m \u001b[0mgoto_xyz\u001b[0m\u001b[0;34m(\u001b[0m\u001b[0mself\u001b[0m\u001b[0;34m,\u001b[0m \u001b[0mxyz\u001b[0m\u001b[0;34m)\u001b[0m\u001b[0;34m:\u001b[0m\u001b[0;34m\u001b[0m\u001b[0m\n\u001b[0;32m---> 16\u001b[0;31m         \u001b[0mself\u001b[0m\u001b[0;34m.\u001b[0m\u001b[0mgoto_theta\u001b[0m\u001b[0;34m(\u001b[0m\u001b[0mget_thetas_to_move\u001b[0m\u001b[0;34m(\u001b[0m\u001b[0mV\u001b[0m\u001b[0;34m(\u001b[0m\u001b[0mself\u001b[0m\u001b[0;34m.\u001b[0m\u001b[0mtheta\u001b[0m\u001b[0;34m)\u001b[0m\u001b[0;34m,\u001b[0m \u001b[0mV\u001b[0m\u001b[0;34m(\u001b[0m\u001b[0mxyz\u001b[0m\u001b[0;34m)\u001b[0m\u001b[0;34m)\u001b[0m\u001b[0;34m)\u001b[0m\u001b[0;34m\u001b[0m\u001b[0m\n\u001b[0m\u001b[1;32m     17\u001b[0m \u001b[0;34m\u001b[0m\u001b[0m\n\u001b[1;32m     18\u001b[0m     \u001b[0;32mdef\u001b[0m \u001b[0mmove_z\u001b[0m\u001b[0;34m(\u001b[0m\u001b[0mself\u001b[0m\u001b[0;34m,\u001b[0m \u001b[0mnew_z\u001b[0m\u001b[0;34m)\u001b[0m\u001b[0;34m:\u001b[0m\u001b[0;34m\u001b[0m\u001b[0m\n",
        "\u001b[0;32m<ipython-input-246-cb14eef42698>\u001b[0m in \u001b[0;36mget_thetas_to_move\u001b[0;34m(from_\u03b8, to_xyz)\u001b[0m\n\u001b[1;32m     19\u001b[0m         \u001b[0miter\u001b[0m \u001b[0;34m+=\u001b[0m \u001b[0;36m1\u001b[0m\u001b[0;34m\u001b[0m\u001b[0m\n\u001b[1;32m     20\u001b[0m         \u001b[0;32mif\u001b[0m \u001b[0miter\u001b[0m \u001b[0;34m>\u001b[0m \u001b[0;36m100\u001b[0m\u001b[0;34m:\u001b[0m\u001b[0;34m\u001b[0m\u001b[0m\n\u001b[0;32m---> 21\u001b[0;31m             \u001b[0;32mraise\u001b[0m \u001b[0mConvergenceError\u001b[0m\u001b[0;34m(\u001b[0m\u001b[0;34m'norm {0} after {1} iters, no convergence'\u001b[0m\u001b[0;34m.\u001b[0m\u001b[0mformat\u001b[0m\u001b[0;34m(\u001b[0m\u001b[0;34m(\u001b[0m\u001b[0mcurr_xyz\u001b[0m \u001b[0;34m-\u001b[0m \u001b[0mto_xyz\u001b[0m\u001b[0;34m)\u001b[0m\u001b[0;34m.\u001b[0m\u001b[0mnorm\u001b[0m\u001b[0;34m(\u001b[0m\u001b[0;34m)\u001b[0m\u001b[0;34m.\u001b[0m\u001b[0mevalf\u001b[0m\u001b[0;34m(\u001b[0m\u001b[0;34m)\u001b[0m\u001b[0;34m,\u001b[0m \u001b[0miter\u001b[0m\u001b[0;34m)\u001b[0m\u001b[0;34m)\u001b[0m\u001b[0;34m\u001b[0m\u001b[0m\n\u001b[0m\u001b[1;32m     22\u001b[0m         \u001b[0mdx\u001b[0m \u001b[0;34m=\u001b[0m \u001b[0mV\u001b[0m\u001b[0;34m(\u001b[0m\u001b[0meval_vector\u001b[0m\u001b[0;34m(\u001b[0m\u001b[0mto_xyz\u001b[0m \u001b[0;34m-\u001b[0m \u001b[0mcurr_xyz\u001b[0m\u001b[0;34m)\u001b[0m\u001b[0;34m)\u001b[0m \u001b[0;34m*\u001b[0m \u001b[0me\u001b[0m \u001b[0;34m**\u001b[0m \u001b[0;34m(\u001b[0m\u001b[0;34m-\u001b[0m\u001b[0;36m0.01\u001b[0m \u001b[0;34m*\u001b[0m \u001b[0miter\u001b[0m\u001b[0;34m)\u001b[0m\u001b[0;34m\u001b[0m\u001b[0m\n\u001b[1;32m     23\u001b[0m         \u001b[0md\u03b8\u001b[0m \u001b[0;34m=\u001b[0m \u001b[0mV\u001b[0m\u001b[0;34m(\u001b[0m\u001b[0meval_vector\u001b[0m\u001b[0;34m(\u001b[0m\u001b[0mjinv_at\u001b[0m\u001b[0;34m(\u001b[0m\u001b[0;34m*\u001b[0m\u001b[0mcurr_\u03b8\u001b[0m\u001b[0;34m)\u001b[0m \u001b[0;34m*\u001b[0m \u001b[0mdx\u001b[0m\u001b[0;34m)\u001b[0m\u001b[0;34m)\u001b[0m\u001b[0;34m\u001b[0m\u001b[0m\n",
        "\u001b[0;31mConvergenceError\u001b[0m: norm 39.2803018384413 after 101 iters, no convergence"
       ]
      }
     ],
     "prompt_number": 265
    },
    {
     "cell_type": "code",
     "collapsed": false,
     "input": [
      "from math import atan2, sqrt, pi"
     ],
     "language": "python",
     "metadata": {},
     "outputs": [],
     "prompt_number": 267
    },
    {
     "cell_type": "code",
     "collapsed": false,
     "input": [
      "L1 = 134\n",
      "L2 = 81\n",
      "L3 = 74\n",
      "\n",
      "def xyz_to_thetas(x, y, z):\n",
      "    t1 = atan2(y, x)\n",
      "    p = sqrt(x ** 2 + y ** 2)\n",
      "    c3 = (p ** 2 + (z - L1) ** 2 - L2 ** 2 - L3 ** 2) / (2 * L2 * L3)\n",
      "    s3 = sqrt(1 - c3 ** 2)\n",
      "    t3 = atan2(s3, c3)\n",
      "    k1 = L2 + L3 * c3\n",
      "    k2 = L3 * s3\n",
      "    t2 = atan2(p, (z - L1)) - atan2(k2, k1)\n",
      "    return rad_to_angle([t1, pi - t2, t3])\n",
      "\n",
      "print(xyz_to_thetas(50, 50, 0))\n",
      "print(xyz_to_thetas(80, 0, 134))\n",
      "print(xyz_to_thetas(130, 0, 134))\n",
      "print(xyz_to_thetas(10, 0, 100))\n",
      "print(xyz_to_thetas(0, 100, 20))"
     ],
     "language": "python",
     "metadata": {},
     "outputs": [
      {
       "output_type": "stream",
       "stream": "stdout",
       "text": [
        "[45.0, 39.45129825184027, 24.380043279886365]\n",
        "[0.0, 144.72185339557353, 118.04859245386253]\n",
        "[0.0, 121.35182091022149, 66.06777957724604]\n",
        "[0.0, 82.32610967879305, 154.06830136443443]\n",
        "[90.0, 52.6654351391688, 23.91269522483168]\n"
       ]
      }
     ],
     "prompt_number": 279
    }
   ],
   "metadata": {}
  }
 ]
}